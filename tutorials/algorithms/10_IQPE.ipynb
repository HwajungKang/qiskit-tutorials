{
 "cells": [
  {
   "cell_type": "markdown",
   "id": "approximate-charger",
   "metadata": {},
   "source": [
    "# Iterative Quantum Phase Estimation Algorithm\n",
    "\n",
    "[ Intro ]\n",
    "\n",
    "The goal of this tutorial is to understand how the IPE (Iterative Phase Estimation) algorithm works, how to build it and why would we use the IPE algorithm instead of the QPE (Quantum Phase Estimation) algorithm.\n",
    "\n",
    "**References**\n",
    "\n",
    "- [Ch.3.5 Quantum Fourier Transform](https://qiskit.org/textbook/ch-algorithms/quantum-fourier-transform.html)\n",
    "- [Ch.3.6 Quantum Phase Estimation](https://qiskit.org/textbook/ch-algorithms/quantum-phase-estimation.html)\n"
   ]
  },
  {
   "cell_type": "code",
   "execution_count": 21,
   "id": "nasty-binding",
   "metadata": {},
   "outputs": [],
   "source": [
    "from qiskit import QuantumCircuit, ClassicalRegister, QuantumRegister, execute, assemble, Aer\n",
    "from qiskit.tools.visualization import circuit_drawer, plot_histogram\n",
    "from qiskit import BasicAer\n",
    "import numpy as np\n",
    "import matplotlib.pyplot as plt"
   ]
  },
  {
   "cell_type": "markdown",
   "id": "prescribed-skill",
   "metadata": {},
   "source": [
    "# C_if"
   ]
  },
  {
   "cell_type": "markdown",
   "id": "protective-tender",
   "metadata": {},
   "source": [
    "The c_if gate, is a gate to perform conditioned operations based on the state of the classical register-\n",
    "\n",
    "For example, the following code will execute the **X** gate if the measurement of the clasical register is **0** but not because the **0** arg is telling the function what does it want to compare, it is because the function c_if expects a quantum register and a binary encoded number. "
   ]
  },
  {
   "cell_type": "code",
   "execution_count": 2,
   "id": "spoken-willow",
   "metadata": {},
   "outputs": [
    {
     "data": {
      "image/png": "[encoded data removed]",
      "text/plain": [
       "<Figure size 206.707x144.48 with 1 Axes>"
      ]
     },
     "execution_count": 2,
     "metadata": {},
     "output_type": "execute_result"
    }
   ],
   "source": [
    "q = QuantumRegister(1)\n",
    "c = ClassicalRegister(1)\n",
    "qc = QuantumCircuit(q, c)\n",
    "qc.x(q[0]).c_if(c, 0)\n",
    "qc.measure(q,c)\n",
    "qc.draw(output='mpl')"
   ]
  },
  {
   "cell_type": "markdown",
   "id": "worth-speech",
   "metadata": {},
   "source": [
    "So, let's image that we want to perform a bit flip on the first qbit on the following circuit when the measurement of q1 and q2 were both 1"
   ]
  },
  {
   "cell_type": "code",
   "execution_count": 3,
   "id": "excellent-count",
   "metadata": {},
   "outputs": [
    {
     "data": {
      "image/png": "[encoded data removed]",
      "text/plain": [
       "<Figure size 340.523x264.88 with 1 Axes>"
      ]
     },
     "execution_count": 3,
     "metadata": {},
     "output_type": "execute_result"
    }
   ],
   "source": [
    "q = QuantumRegister(3)\n",
    "c = ClassicalRegister(3)\n",
    "qc = QuantumCircuit(q, c)\n",
    "qc.h(q[1])\n",
    "qc.h(q[2])\n",
    "qc.measure(q,c)\n",
    "qc.draw(output='mpl')"
   ]
  },
  {
   "cell_type": "markdown",
   "id": "entertaining-adams",
   "metadata": {},
   "source": [
    "We will have to encode the c_if so it will check the values 011 or 111 because we do not matter what is in the first position, we want to apply the X gate only if both q1 and q2 were 1"
   ]
  },
  {
   "cell_type": "markdown",
   "id": "finished-failure",
   "metadata": {},
   "source": [
    "\n",
    "<img src=\"images/binary.png\" width=\"55%\" >\n"
   ]
  },
  {
   "cell_type": "markdown",
   "id": "brutal-slope",
   "metadata": {},
   "source": [
    "We can check our solutions using the bin() method in python"
   ]
  },
  {
   "cell_type": "code",
   "execution_count": 4,
   "id": "boxed-electronics",
   "metadata": {},
   "outputs": [
    {
     "name": "stdout",
     "output_type": "stream",
     "text": [
      "0b11\n",
      "0b111\n"
     ]
    }
   ],
   "source": [
    "print(bin(3))\n",
    "print(bin(7))\n"
   ]
  },
  {
   "cell_type": "code",
   "execution_count": 5,
   "id": "following-surfing",
   "metadata": {},
   "outputs": [
    {
     "data": {
      "image/png": "[encoded data removed]",
      "text/plain": [
       "<Figure size 461.069x264.88 with 1 Axes>"
      ]
     },
     "execution_count": 5,
     "metadata": {},
     "output_type": "execute_result"
    }
   ],
   "source": [
    "q = QuantumRegister(3)\n",
    "c = ClassicalRegister(3)\n",
    "qc = QuantumCircuit(q, c)\n",
    "qc.h(q[1])\n",
    "qc.h(q[2])\n",
    "\n",
    "\n",
    "qc.x(q[0]).c_if(c, 3) # for the 011 case\n",
    "qc.x(q[0]).c_if(c, 7) # for the 111 case\n",
    "\n",
    "\n",
    "qc.measure(q,c)\n",
    "qc.draw(output='mpl')"
   ]
  },
  {
   "cell_type": "markdown",
   "id": "african-adams",
   "metadata": {},
   "source": [
    "\n",
    "# IPE\n",
    "\n",
    "To understand the maths behind the algoritm you can check [Ch.3.5 Quantum Fourier Transform](https://qiskit.org/textbook/ch-algorithms/quantum-fourier-transform.html) and [Ch.3.6 Quantum Phase Estimation](https://qiskit.org/textbook/ch-algorithms/quantum-phase-estimation.html)\n",
    "\n",
    "The motivation for this tutorial is that QPE algorithm works fine for small circuits but when the circuit starts to grow due to noise and decoherence time it doesn't work properly.\n",
    "\n",
    "In the QPE chapter a $T$-gate is used and in the Lab4 the same gate is used so we are using a $S$-gate so there are diverse examples.\n",
    "\n",
    "Let's build the IPE algorithm to stimate the phase of the S-gate:\n",
    "\n",
    "The $S$-gate adds a phase of $ e^{\\frac{i\\pi}{2}} $ to the state $|1\\rangle$:\n",
    "\n",
    "\n",
    "$$ S|1\\rangle = \n",
    "\\begin{bmatrix}\n",
    "1 & 0\\\\\n",
    "0 & e^\\frac{i\\pi}{2}\\\\ \n",
    "\\end{bmatrix}\n",
    "\\begin{bmatrix}\n",
    "0\\\\\n",
    "1\\\\ \n",
    "\\end{bmatrix}\n",
    "= e^\\frac{i\\pi}{2}|1\\rangle $$"
   ]
  },
  {
   "cell_type": "markdown",
   "id": "recent-ghana",
   "metadata": {},
   "source": [
    "First we initialize the circuit, we will need 3 counting qubits"
   ]
  },
  {
   "cell_type": "code",
   "execution_count": 6,
   "id": "competent-japanese",
   "metadata": {},
   "outputs": [],
   "source": [
    "c_q = 3\n",
    "q = QuantumRegister(2)\n",
    "c = ClassicalRegister(c_q)\n",
    "\n",
    "qc_T = QuantumCircuit(q,c)"
   ]
  },
  {
   "cell_type": "markdown",
   "id": "dominican-camcorder",
   "metadata": {},
   "source": [
    "Then we initialize the first part of the algorithm  "
   ]
  },
  {
   "cell_type": "code",
   "execution_count": 7,
   "id": "classified-pipeline",
   "metadata": {},
   "outputs": [
    {
     "data": {
      "text/plain": [
       "<qiskit.circuit.instructionset.InstructionSet at 0x21e2d74deb0>"
      ]
     },
     "execution_count": 7,
     "metadata": {},
     "output_type": "execute_result"
    }
   ],
   "source": [
    "qc_T.h(0)\n",
    "qc_T.x(1)"
   ]
  },
  {
   "cell_type": "markdown",
   "id": "pacific-momentum",
   "metadata": {},
   "source": [
    "And perform the Cu operations [Summary of Quantum Operations](https://qiskit.org/documentation/tutorials/circuits/3_summary_of_quantum_operations.html#Two-qubit-gates), in this case and because we are using the $S$-gate the $\\theta$ will be $\\frac{\\pi}{2}$"
   ]
  },
  {
   "cell_type": "code",
   "execution_count": 8,
   "id": "tender-variation",
   "metadata": {},
   "outputs": [],
   "source": [
    "## c-U^(2^t) operations (with t=m-1)\n",
    "for _ in range(2**(c_q-1)):\n",
    "    qc_T.cp(np.pi/2,0,1)"
   ]
  },
  {
   "cell_type": "markdown",
   "id": "continued-worst",
   "metadata": {},
   "source": [
    "As you can see in the algorithm we need an x_measure, so we are going to define a function to perform the x_measure and then apply it."
   ]
  },
  {
   "cell_type": "code",
   "execution_count": 9,
   "id": "considerable-sense",
   "metadata": {},
   "outputs": [],
   "source": [
    "def x_measurement(qc, qubit, cbit):\n",
    "    \"\"\"Measure 'qubit' in the X-basis, and store the result in 'cbit'\"\"\"\n",
    "    qc.h(qubit)\n",
    "    qc.measure(qubit, cbit)\n",
    "    return qc"
   ]
  },
  {
   "cell_type": "code",
   "execution_count": 10,
   "id": "subtle-background",
   "metadata": {},
   "outputs": [
    {
     "data": {
      "text/plain": [
       "<qiskit.circuit.quantumcircuit.QuantumCircuit at 0x21e94e10160>"
      ]
     },
     "execution_count": 10,
     "metadata": {},
     "output_type": "execute_result"
    }
   ],
   "source": [
    "x_measurement(qc_T, q[0], c[0]) \n"
   ]
  },
  {
   "cell_type": "markdown",
   "id": "lasting-difference",
   "metadata": {},
   "source": [
    "As we want to perform an iterative algorithm we need to reset the circuit, initialize it again and perform a phase correction, the phase correction is done only if the first qubit is 1, so as we saw in the first part of this tutorial, we have to use a c_if gate with a value of 1 (1 == 001)"
   ]
  },
  {
   "cell_type": "code",
   "execution_count": 11,
   "id": "shaped-fluid",
   "metadata": {},
   "outputs": [
    {
     "data": {
      "text/plain": [
       "<qiskit.circuit.instructionset.InstructionSet at 0x21e2d74d880>"
      ]
     },
     "execution_count": 11,
     "metadata": {},
     "output_type": "execute_result"
    }
   ],
   "source": [
    "#inizialization of qubit 0\n",
    "qc_T.reset(0)\n",
    "qc_T.h(0)\n",
    "\n",
    "## phase correction\n",
    "qc_T.p(-np.pi/2,0).c_if(c,1) "
   ]
  },
  {
   "cell_type": "markdown",
   "id": "moving-vertical",
   "metadata": {},
   "source": [
    "Again the Cu operations and the measurement"
   ]
  },
  {
   "cell_type": "code",
   "execution_count": 14,
   "id": "thrown-galaxy",
   "metadata": {},
   "outputs": [
    {
     "data": {
      "text/plain": [
       "<qiskit.circuit.quantumcircuit.QuantumCircuit at 0x21e94e10160>"
      ]
     },
     "execution_count": 14,
     "metadata": {},
     "output_type": "execute_result"
    }
   ],
   "source": [
    "## c-U^(2^t) operations (with t=m-2)\n",
    "for _ in range(2**(c_q-2)):\n",
    "    qc_T.cp(np.pi/2,0,1)\n",
    "\n",
    "x_measurement(qc_T, q[0], c[1]) \n"
   ]
  },
  {
   "cell_type": "markdown",
   "id": "framed-punch",
   "metadata": {},
   "source": [
    "Let's do all together:\n",
    "- Initialize\n",
    "- Phase correction for the first qubit (c_if with 1 &#8594; 001 )\n",
    "- Phase correction for the second qubit (c_if with 2 or 3 &#8594; 2=010, 3=011)\n",
    "- Measure"
   ]
  },
  {
   "cell_type": "code",
   "execution_count": 15,
   "id": "spanish-advice",
   "metadata": {},
   "outputs": [
    {
     "data": {
      "text/plain": [
       "<qiskit.circuit.quantumcircuit.QuantumCircuit at 0x21e94e10160>"
      ]
     },
     "execution_count": 15,
     "metadata": {},
     "output_type": "execute_result"
    }
   ],
   "source": [
    "#inizialization of qubit 0\n",
    "qc_T.reset(0)\n",
    "qc_T.h(0)\n",
    "\n",
    "### phase correction ###\n",
    "qc_T.p(-np.pi/4,0).c_if(c,1) \n",
    "\n",
    "qc_T.p(-np.pi/2,0).c_if(c,2)\n",
    "qc_T.p(-np.pi/2,0).c_if(c,3)\n",
    "\n",
    "## c-U^(2^t) operations (with t=m-3=0)\n",
    "for _ in range(2**(c_q-3)):\n",
    "    qc_T.cp(np.pi/2,0,1)\n",
    "\n",
    "## X measurement   \n",
    "x_measurement(qc_T, q[0], c[2]) \n",
    "\n",
    "\n"
   ]
  },
  {
   "cell_type": "markdown",
   "id": "supported-speaking",
   "metadata": {},
   "source": [
    "Et voilà, we can draw our circuit"
   ]
  },
  {
   "cell_type": "code",
   "execution_count": 16,
   "id": "former-plain",
   "metadata": {},
   "outputs": [
    {
     "data": {
      "image/png": "[encoded data removed]",
      "text/plain": [
       "<Figure size 1424.12x204.68 with 1 Axes>"
      ]
     },
     "execution_count": 16,
     "metadata": {},
     "output_type": "execute_result"
    }
   ],
   "source": [
    "qc_T.draw('mpl')"
   ]
  },
  {
   "cell_type": "code",
   "execution_count": 22,
   "id": "included-jesus",
   "metadata": {},
   "outputs": [
    {
     "data": {
      "image/png": "[encoded data removed]",
      "text/plain": [
       "<Figure size 432x288 with 2 Axes>"
      ]
     },
     "metadata": {
      "needs_background": "light"
     },
     "output_type": "display_data"
    }
   ],
   "source": [
    "sim = Aer.get_backend('qasm_simulator')\n",
    "count0 = execute(qc_T, sim).result().get_counts()\n",
    "n=3\n",
    "key_new = [str(int(key,2)/2**n) for key in list(count0.keys())]\n",
    "count1 = dict(zip(key_new, count0.values()))\n",
    "\n",
    "fig, ax = plt.subplots(1,2)\n",
    "plot_histogram(count0, ax=ax[0])\n",
    "plot_histogram(count1, ax=ax[1])\n",
    "plt.tight_layout()"
   ]
  },
  {
   "cell_type": "code",
   "execution_count": null,
   "id": "expired-display",
   "metadata": {},
   "outputs": [],
   "source": []
  },
  {
   "cell_type": "code",
   "execution_count": null,
   "id": "together-projector",
   "metadata": {},
   "outputs": [],
   "source": [
    "import qiskit.tools.jupyter\n",
    "%qiskit_version_table\n",
    "%qiskit_copyright"
   ]
  },
  {
   "cell_type": "code",
   "execution_count": null,
   "id": "substantial-railway",
   "metadata": {},
   "outputs": [],
   "source": []
  }
 ],
 "metadata": {
  "kernelspec": {
   "display_name": "Python 3",
   "language": "python",
   "name": "python3"
  },
  "language_info": {
   "codemirror_mode": {
    "name": "ipython",
    "version": 3
   },
   "file_extension": ".py",
   "mimetype": "text/x-python",
   "name": "python",
   "nbconvert_exporter": "python",
   "pygments_lexer": "ipython3",
   "version": "3.9.5"
  }
 },
 "nbformat": 4,
 "nbformat_minor": 5
}